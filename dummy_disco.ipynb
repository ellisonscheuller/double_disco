{
 "cells": [
  {
   "cell_type": "code",
   "execution_count": 137,
   "id": "4f96dee0-fa58-4071-92b7-f05ffa4963c7",
   "metadata": {},
   "outputs": [],
   "source": [
    "import h5py\n",
    "import numpy as np\n",
    "import torch\n",
    "from sklearn.preprocessing import StandardScaler\n",
    "import torch.nn as nn\n",
    "import torch.nn.functional as F\n",
    "import torch.optim as optim\n",
    "import matplotlib.pyplot as plt"
   ]
  },
  {
   "cell_type": "code",
   "execution_count": 138,
   "id": "f04cc2e0-b336-44dc-a26c-4f2919404a71",
   "metadata": {},
   "outputs": [],
   "source": [
    "#load the data\n",
    "with h5py.File('data/background_for_training.h5', 'r') as f:\n",
    "    X = f['Particles'][:100000]  #will load more if this works"
   ]
  },
  {
   "cell_type": "code",
   "execution_count": 139,
   "id": "8d46168b-7bed-48e9-b291-befbab2788a3",
   "metadata": {},
   "outputs": [],
   "source": [
    "#must flatten data so it is 1D per event\n",
    "X = X.reshape(X.shape[0], -1)\n",
    "\n",
    "#take out any NaN\n",
    "X = np.nan_to_num(X)\n",
    "\n",
    "#scale it\n",
    "scaler = StandardScaler()\n",
    "X_scaled = scaler.fit_transform(X).astype(np.float32)\n",
    "\n",
    "#make torch tensor\n",
    "X_tensor = torch.tensor(X_scaled)"
   ]
  },
  {
   "cell_type": "code",
   "execution_count": 140,
   "id": "d5c9a759-b289-4362-96df-a55d68ea7bd0",
   "metadata": {},
   "outputs": [],
   "source": [
    "#standard vae model class\n",
    "class VAE(nn.Module):\n",
    "    def __init__(self, input_dim, latent_dim=4):\n",
    "        super().__init__()\n",
    "\n",
    "        #the encoder (maps input to hidden layer, then to mu and logvar)\n",
    "        self.encoder = nn.Sequential(\n",
    "\n",
    "            #input to hidden layer\n",
    "            nn.Linear(input_dim, 64),\n",
    "\n",
    "            #activation function\n",
    "            nn.ReLU(),\n",
    "\n",
    "            #outputs mu and logvar\n",
    "            nn.Linear(64, 2 * latent_dim)\n",
    "        )\n",
    "\n",
    "        #decoder (maps latent vector z back to recon. input)\n",
    "        self.decoder = nn.Sequential(\n",
    "\n",
    "            #latent to hidden layer\n",
    "            nn.Linear(latent_dim, 64),\n",
    "\n",
    "            #act. function\n",
    "            nn.ReLU(),\n",
    "\n",
    "            #hidden to recon. inputp\n",
    "            nn.Linear(64, input_dim)\n",
    "        )\n",
    "\n",
    "    #this encodes input z into latent params (mu and logvar)\n",
    "    def encode(self, x):\n",
    "\n",
    "        #shape is [batch_size, 2*latent_dim]\n",
    "        h = self.encoder(x)\n",
    "\n",
    "        #splits into mu and logvar on last dimension\n",
    "        mu, logvar = h.chunk(2, dim=-1)\n",
    "        return mu, logvar\n",
    "\n",
    "    #samples latent var z with reparam trick (z = mu + std*(~N(0,1))\n",
    "    #this allows gradient propagation\n",
    "    def reparameterize(self, mu, logvar):\n",
    "        std = (0.5 * logvar).exp()\n",
    "        eps = torch.randn_like(std)\n",
    "\n",
    "        #reparam latent sample\n",
    "        return mu + eps * std\n",
    "\n",
    "    #decodes latent var z into input space\n",
    "    def decode(self, z):\n",
    "        return self.decoder(z)\n",
    "\n",
    "    #VAE forward pass\n",
    "    def forward(self, x):\n",
    "\n",
    "        #encode input to mu and logvar\n",
    "        mu, logvar = self.encode(x)\n",
    "\n",
    "        #sample z via reparameterize\n",
    "        z = self.reparameterize(mu, logvar)\n",
    "\n",
    "        #decode z to recon input\n",
    "        x_hat = self.decode(z)\n",
    "        return x_hat, mu, logvar, z\n"
   ]
  },
  {
   "cell_type": "code",
   "execution_count": 141,
   "id": "736d5dd6-569d-4400-b368-506819f36b09",
   "metadata": {},
   "outputs": [],
   "source": [
    "#get the distance correlation (DisCo) given and x and y var\n",
    "#this is from the paper\n",
    "def disco_loss(x, y):\n",
    "    x = x - x.mean(0)\n",
    "    y = y - y.mean(0)\n",
    "    a = torch.cdist(x, x)\n",
    "    b = torch.cdist(y, y)\n",
    "    A = a - a.mean(0) - a.mean(1, keepdim=True) + a.mean()\n",
    "    B = b - b.mean(0) - b.mean(1, keepdim=True) + b.mean()\n",
    "    dcov = (A * B).mean()\n",
    "    dvar_x = (A * A).mean().sqrt()\n",
    "    dvar_y = (B * B).mean().sqrt()\n",
    "    return dcov / (dvar_x * dvar_y + 1e-10) #in case of zero in denom"
   ]
  },
  {
   "cell_type": "code",
   "execution_count": 142,
   "id": "0cc4c739-9b35-4f75-9282-d39ac6190b83",
   "metadata": {},
   "outputs": [],
   "source": [
    "#calculate loss for vae (mse and kl div)\n",
    "def vae_loss(x, x_hat, mu, logvar):\n",
    "    \n",
    "    #reco loss\n",
    "    recon = F.mse_loss(x_hat, x, reduction='mean')\n",
    "    \n",
    "    #kl divergence\n",
    "    kl_div = -0.5 * torch.mean(1 + logvar - mu.pow(2) - logvar.exp())\n",
    "    return recon + kl_div"
   ]
  },
  {
   "cell_type": "code",
   "execution_count": 152,
   "id": "4f7fdd3d-6f2f-4989-81b7-bfce9a1d6fc9",
   "metadata": {},
   "outputs": [],
   "source": [
    "#combining vae loss and disco loss\n",
    "def total_loss(x, out_1, out_2, lambda_disco=20.0):\n",
    "\n",
    "    #output from VAE 1\n",
    "    x1_hat, mu_1, logvar_1, z_1 = out_1\n",
    "\n",
    "    #output from VAE 2\n",
    "    x2_hat, mu_2, logvar_2, z_2 = out_2\n",
    "\n",
    "    #calc vae loss\n",
    "    loss_1 = vae_loss(x, x1_hat, mu_1, logvar_1)\n",
    "    loss_2 = vae_loss(x, x2_hat, mu_2, logvar_2)\n",
    "\n",
    "    #calc distance corr between latent vectors z_1 and z_2\n",
    "    disco = disco_loss(z_1, z_2)\n",
    "\n",
    "    #sum loss (keep in mind disco term penalizes corr between latent spaces\n",
    "    #to force decorrelation)\n",
    "    return loss_1 + loss_2 + lambda_disco * disco"
   ]
  },
  {
   "cell_type": "code",
   "execution_count": 153,
   "id": "5d2e1073-840d-460b-a125-4922ef42b8ab",
   "metadata": {},
   "outputs": [],
   "source": [
    "device = torch.device('cuda' if torch.cuda.is_available() else 'cpu')\n",
    "\n",
    "#init both vaes\n",
    "vae_1 = VAE(X_tensor.shape[1]).to(device)\n",
    "vae_2 = VAE(X_tensor.shape[1]).to(device)\n",
    "\n",
    "#optimizer with Adam for both models\n",
    "optimizer = torch.optim.Adam(list(vae1.parameters()) + list(vae2.parameters()), lr=1e-3)"
   ]
  },
  {
   "cell_type": "code",
   "execution_count": 154,
   "id": "082e4611-23ed-43a6-9e0c-f077828a431a",
   "metadata": {},
   "outputs": [
    {
     "name": "stdout",
     "output_type": "stream",
     "text": [
      "Epoch 0 : Loss = <function total_loss at 0x7fea1f71a7a0>\n",
      "Epoch 1 : Loss = <function total_loss at 0x7fea1f71a7a0>\n",
      "Epoch 2 : Loss = <function total_loss at 0x7fea1f71a7a0>\n",
      "Epoch 3 : Loss = <function total_loss at 0x7fea1f71a7a0>\n",
      "Epoch 4 : Loss = <function total_loss at 0x7fea1f71a7a0>\n",
      "Epoch 5 : Loss = <function total_loss at 0x7fea1f71a7a0>\n",
      "Epoch 6 : Loss = <function total_loss at 0x7fea1f71a7a0>\n",
      "Epoch 7 : Loss = <function total_loss at 0x7fea1f71a7a0>\n",
      "Epoch 8 : Loss = <function total_loss at 0x7fea1f71a7a0>\n"
     ]
    },
    {
     "ename": "KeyboardInterrupt",
     "evalue": "",
     "output_type": "error",
     "traceback": [
      "\u001b[0;31m---------------------------------------------------------------------------\u001b[0m",
      "\u001b[0;31mKeyboardInterrupt\u001b[0m                         Traceback (most recent call last)",
      "Cell \u001b[0;32mIn[154], line 31\u001b[0m\n\u001b[1;32m     28\u001b[0m optimizer\u001b[38;5;241m.\u001b[39mzero_grad()\n\u001b[1;32m     30\u001b[0m \u001b[38;5;66;03m#backward pass (gradient prop)\u001b[39;00m\n\u001b[0;32m---> 31\u001b[0m \u001b[43mloss\u001b[49m\u001b[38;5;241;43m.\u001b[39;49m\u001b[43mbackward\u001b[49m\u001b[43m(\u001b[49m\u001b[43m)\u001b[49m\n\u001b[1;32m     33\u001b[0m \u001b[38;5;66;03m#update params\u001b[39;00m\n\u001b[1;32m     34\u001b[0m optimizer\u001b[38;5;241m.\u001b[39mstep()\n",
      "File \u001b[0;32m/opt/conda/lib/python3.11/site-packages/torch/_tensor.py:522\u001b[0m, in \u001b[0;36mTensor.backward\u001b[0;34m(self, gradient, retain_graph, create_graph, inputs)\u001b[0m\n\u001b[1;32m    512\u001b[0m \u001b[38;5;28;01mif\u001b[39;00m has_torch_function_unary(\u001b[38;5;28mself\u001b[39m):\n\u001b[1;32m    513\u001b[0m     \u001b[38;5;28;01mreturn\u001b[39;00m handle_torch_function(\n\u001b[1;32m    514\u001b[0m         Tensor\u001b[38;5;241m.\u001b[39mbackward,\n\u001b[1;32m    515\u001b[0m         (\u001b[38;5;28mself\u001b[39m,),\n\u001b[0;32m   (...)\u001b[0m\n\u001b[1;32m    520\u001b[0m         inputs\u001b[38;5;241m=\u001b[39minputs,\n\u001b[1;32m    521\u001b[0m     )\n\u001b[0;32m--> 522\u001b[0m \u001b[43mtorch\u001b[49m\u001b[38;5;241;43m.\u001b[39;49m\u001b[43mautograd\u001b[49m\u001b[38;5;241;43m.\u001b[39;49m\u001b[43mbackward\u001b[49m\u001b[43m(\u001b[49m\n\u001b[1;32m    523\u001b[0m \u001b[43m    \u001b[49m\u001b[38;5;28;43mself\u001b[39;49m\u001b[43m,\u001b[49m\u001b[43m \u001b[49m\u001b[43mgradient\u001b[49m\u001b[43m,\u001b[49m\u001b[43m \u001b[49m\u001b[43mretain_graph\u001b[49m\u001b[43m,\u001b[49m\u001b[43m \u001b[49m\u001b[43mcreate_graph\u001b[49m\u001b[43m,\u001b[49m\u001b[43m \u001b[49m\u001b[43minputs\u001b[49m\u001b[38;5;241;43m=\u001b[39;49m\u001b[43minputs\u001b[49m\n\u001b[1;32m    524\u001b[0m \u001b[43m\u001b[49m\u001b[43m)\u001b[49m\n",
      "File \u001b[0;32m/opt/conda/lib/python3.11/site-packages/torch/autograd/__init__.py:266\u001b[0m, in \u001b[0;36mbackward\u001b[0;34m(tensors, grad_tensors, retain_graph, create_graph, grad_variables, inputs)\u001b[0m\n\u001b[1;32m    261\u001b[0m     retain_graph \u001b[38;5;241m=\u001b[39m create_graph\n\u001b[1;32m    263\u001b[0m \u001b[38;5;66;03m# The reason we repeat the same comment below is that\u001b[39;00m\n\u001b[1;32m    264\u001b[0m \u001b[38;5;66;03m# some Python versions print out the first line of a multi-line function\u001b[39;00m\n\u001b[1;32m    265\u001b[0m \u001b[38;5;66;03m# calls in the traceback and some print out the last line\u001b[39;00m\n\u001b[0;32m--> 266\u001b[0m \u001b[43mVariable\u001b[49m\u001b[38;5;241;43m.\u001b[39;49m\u001b[43m_execution_engine\u001b[49m\u001b[38;5;241;43m.\u001b[39;49m\u001b[43mrun_backward\u001b[49m\u001b[43m(\u001b[49m\u001b[43m  \u001b[49m\u001b[38;5;66;43;03m# Calls into the C++ engine to run the backward pass\u001b[39;49;00m\n\u001b[1;32m    267\u001b[0m \u001b[43m    \u001b[49m\u001b[43mtensors\u001b[49m\u001b[43m,\u001b[49m\n\u001b[1;32m    268\u001b[0m \u001b[43m    \u001b[49m\u001b[43mgrad_tensors_\u001b[49m\u001b[43m,\u001b[49m\n\u001b[1;32m    269\u001b[0m \u001b[43m    \u001b[49m\u001b[43mretain_graph\u001b[49m\u001b[43m,\u001b[49m\n\u001b[1;32m    270\u001b[0m \u001b[43m    \u001b[49m\u001b[43mcreate_graph\u001b[49m\u001b[43m,\u001b[49m\n\u001b[1;32m    271\u001b[0m \u001b[43m    \u001b[49m\u001b[43minputs\u001b[49m\u001b[43m,\u001b[49m\n\u001b[1;32m    272\u001b[0m \u001b[43m    \u001b[49m\u001b[43mallow_unreachable\u001b[49m\u001b[38;5;241;43m=\u001b[39;49m\u001b[38;5;28;43;01mTrue\u001b[39;49;00m\u001b[43m,\u001b[49m\n\u001b[1;32m    273\u001b[0m \u001b[43m    \u001b[49m\u001b[43maccumulate_grad\u001b[49m\u001b[38;5;241;43m=\u001b[39;49m\u001b[38;5;28;43;01mTrue\u001b[39;49;00m\u001b[43m,\u001b[49m\n\u001b[1;32m    274\u001b[0m \u001b[43m\u001b[49m\u001b[43m)\u001b[49m\n",
      "\u001b[0;31mKeyboardInterrupt\u001b[0m: "
     ]
    }
   ],
   "source": [
    "#training hyperparams\n",
    "batch_size = 256\n",
    "epochs = 50\n",
    "\n",
    "#train the vaes\n",
    "for epoch in range(epochs):\n",
    "\n",
    "    #shuffle data after each epoch\n",
    "    perm = torch.randperm(X_tensor.size(0))\n",
    "\n",
    "    #init loss\n",
    "    final_loss = 0\n",
    "\n",
    "    #itirates through the dataset in mini batches\n",
    "    for i in range(0, X_tensor.size(0), batch_size):\n",
    "\n",
    "        #shuffled mini batch\n",
    "        x_batch = X_tensor[perm[i:i+batch_size]]\n",
    "\n",
    "        #forward pass through baes\n",
    "        out_1 = vae_1(x_batch)\n",
    "        out_2 = vae_2(x_batch)\n",
    "\n",
    "        #calc total loss\n",
    "        loss = total_loss(x_batch, out_1, out_2)\n",
    "\n",
    "        #zero gradients\n",
    "        optimizer.zero_grad()\n",
    "\n",
    "        #backward pass (gradient prop)\n",
    "        loss.backward()\n",
    "\n",
    "        #update params\n",
    "        optimizer.step()\n",
    "\n",
    "        #add to the final loss\n",
    "        final_loss += loss.item()\n",
    "        \n",
    "    print(f\"Epoch {epoch} : Loss = {final_loss}\")"
   ]
  },
  {
   "cell_type": "code",
   "execution_count": 84,
   "id": "dfdc7c00-409e-4b62-b3f8-a487d05b3cb0",
   "metadata": {},
   "outputs": [
    {
     "data": {
      "image/png": "[encoded data removed]",
      "text/plain": [
       "<Figure size 640x480 with 1 Axes>"
      ]
     },
     "metadata": {},
     "output_type": "display_data"
    }
   ],
   "source": [
    "anomaly_score = np.linalg.norm(z1 - z2, axis=1)\n",
    "plt.hist(anomaly_score, bins=100)\n",
    "plt.xlabel(\"Anomaly Score\")\n",
    "plt.ylabel(\"Count\")\n",
    "plt.title(\"Double disco Anomaly Score between 2 VAEs\")\n",
    "plt.xlim(0,10)\n",
    "plt.show()"
   ]
  },
  {
   "cell_type": "code",
   "execution_count": null,
   "id": "8806c7db-aa91-401d-a24e-99ed60bd2077",
   "metadata": {},
   "outputs": [],
   "source": []
  }
 ],
 "metadata": {
  "kernelspec": {
   "display_name": "Python 3 (ipykernel)",
   "language": "python",
   "name": "python3"
  },
  "language_info": {
   "codemirror_mode": {
    "name": "ipython",
    "version": 3
   },
   "file_extension": ".py",
   "mimetype": "text/x-python",
   "name": "python",
   "nbconvert_exporter": "python",
   "pygments_lexer": "ipython3",
   "version": "3.11.9"
  }
 },
 "nbformat": 4,
 "nbformat_minor": 5
}
